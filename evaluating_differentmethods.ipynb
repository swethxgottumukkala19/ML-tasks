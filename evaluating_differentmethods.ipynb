{
 "cells": [
  {
   "cell_type": "code",
   "execution_count": 1,
   "id": "809cfa83",
   "metadata": {},
   "outputs": [],
   "source": [
    "from sklearn.datasets import load_iris\n",
    "from sklearn.model_selection import train_test_split\n",
    "from sklearn.neighbors import KNeighborsClassifier\n",
    "import category_encoders as ce\n",
    "from sklearn.naive_bayes import GaussianNB\n",
    "from sklearn.tree import DecisionTreeClassifier\n",
    "from sklearn.linear_model import Perceptron\n",
    "from sklearn.metrics import accuracy_score, classification_report, confusion_matrix, precision_score, recall_score, f1_score\n",
    "import matplotlib.pyplot as plt\n",
    "import seaborn as sns\n",
    "import pandas as pd\n",
    "\n",
    "iris= load_iris()\n",
    "X= iris.data\n",
    "y= iris.target\n",
    "df= pd.DataFrame(data= X, columns= iris.feature_names)\n",
    "X_train, X_test, y_train, y_test = train_test_split(X, y, test_size=0.4, random_state=42)\n"
   ]
  },
  {
   "cell_type": "code",
   "execution_count": 2,
   "id": "1c831776",
   "metadata": {},
   "outputs": [
    {
     "data": {
      "text/html": [
       "<div>\n",
       "<style scoped>\n",
       "    .dataframe tbody tr th:only-of-type {\n",
       "        vertical-align: middle;\n",
       "    }\n",
       "\n",
       "    .dataframe tbody tr th {\n",
       "        vertical-align: top;\n",
       "    }\n",
       "\n",
       "    .dataframe thead th {\n",
       "        text-align: right;\n",
       "    }\n",
       "</style>\n",
       "<table border=\"1\" class=\"dataframe\">\n",
       "  <thead>\n",
       "    <tr style=\"text-align: right;\">\n",
       "      <th></th>\n",
       "      <th>sepal length (cm)</th>\n",
       "      <th>sepal width (cm)</th>\n",
       "      <th>petal length (cm)</th>\n",
       "      <th>petal width (cm)</th>\n",
       "    </tr>\n",
       "  </thead>\n",
       "  <tbody>\n",
       "    <tr>\n",
       "      <th>0</th>\n",
       "      <td>5.1</td>\n",
       "      <td>3.5</td>\n",
       "      <td>1.4</td>\n",
       "      <td>0.2</td>\n",
       "    </tr>\n",
       "    <tr>\n",
       "      <th>1</th>\n",
       "      <td>4.9</td>\n",
       "      <td>3.0</td>\n",
       "      <td>1.4</td>\n",
       "      <td>0.2</td>\n",
       "    </tr>\n",
       "    <tr>\n",
       "      <th>2</th>\n",
       "      <td>4.7</td>\n",
       "      <td>3.2</td>\n",
       "      <td>1.3</td>\n",
       "      <td>0.2</td>\n",
       "    </tr>\n",
       "    <tr>\n",
       "      <th>3</th>\n",
       "      <td>4.6</td>\n",
       "      <td>3.1</td>\n",
       "      <td>1.5</td>\n",
       "      <td>0.2</td>\n",
       "    </tr>\n",
       "    <tr>\n",
       "      <th>4</th>\n",
       "      <td>5.0</td>\n",
       "      <td>3.6</td>\n",
       "      <td>1.4</td>\n",
       "      <td>0.2</td>\n",
       "    </tr>\n",
       "  </tbody>\n",
       "</table>\n",
       "</div>"
      ],
      "text/plain": [
       "   sepal length (cm)  sepal width (cm)  petal length (cm)  petal width (cm)\n",
       "0                5.1               3.5                1.4               0.2\n",
       "1                4.9               3.0                1.4               0.2\n",
       "2                4.7               3.2                1.3               0.2\n",
       "3                4.6               3.1                1.5               0.2\n",
       "4                5.0               3.6                1.4               0.2"
      ]
     },
     "execution_count": 2,
     "metadata": {},
     "output_type": "execute_result"
    }
   ],
   "source": [
    "df.head()"
   ]
  },
  {
   "cell_type": "code",
   "execution_count": 3,
   "id": "13704ab7",
   "metadata": {},
   "outputs": [
    {
     "name": "stdout",
     "output_type": "stream",
     "text": [
      "0.9833333333333333\n"
     ]
    }
   ],
   "source": [
    "# decision tree classifier\n",
    "dt_clf = DecisionTreeClassifier()\n",
    "dt_clf.fit(X_train, y_train)\n",
    "\n",
    "y_pred_dt_clf = dt_clf.predict(X_test)\n",
    "print(accuracy_score(y_test, y_pred_dt_clf))"
   ]
  },
  {
   "cell_type": "code",
   "execution_count": 4,
   "id": "bf5edfcf",
   "metadata": {},
   "outputs": [
    {
     "name": "stdout",
     "output_type": "stream",
     "text": [
      "0.9833333333333333\n"
     ]
    }
   ],
   "source": [
    "# KNN classifier\n",
    "knn_classifier = KNeighborsClassifier(n_neighbors=2)\n",
    "knn_classifier.fit(X_train, y_train)\n",
    "y_pred_knn = knn_classifier.predict(X_test)\n",
    "print(accuracy_score(y_test, y_pred_knn))"
   ]
  },
  {
   "cell_type": "code",
   "execution_count": 5,
   "id": "277ea16d",
   "metadata": {},
   "outputs": [
    {
     "name": "stdout",
     "output_type": "stream",
     "text": [
      "0.9666666666666667\n"
     ]
    }
   ],
   "source": [
    "# Naive Bayes classifier\n",
    "classifier = GaussianNB()\n",
    "classifier.fit(X_train, y_train)\n",
    "y_pred_NB = classifier.predict(X_test)\n",
    "print(accuracy_score(y_test, y_pred_NB))"
   ]
  },
  {
   "cell_type": "code",
   "execution_count": 6,
   "id": "37f70065",
   "metadata": {},
   "outputs": [
    {
     "name": "stdout",
     "output_type": "stream",
     "text": [
      "0.9166666666666666\n"
     ]
    }
   ],
   "source": [
    "# Perceptron\n",
    "perceptron= Perceptron()\n",
    "perceptron.fit(X_train, y_train)\n",
    "y_pred_perceptron= perceptron.predict(X_test)\n",
    "print(accuracy_score(y_test, y_pred_perceptron))"
   ]
  },
  {
   "cell_type": "code",
   "execution_count": 9,
   "id": "a1ad9d22",
   "metadata": {},
   "outputs": [
    {
     "name": "stdout",
     "output_type": "stream",
     "text": [
      "19 23 0 0\n",
      "19 23 0 0\n",
      "18 23 0 0\n",
      "15 23 0 2\n",
      "Sensitivity for each classifier: [1.0, 1.0, 1.0, 0.8823529411764706]\n",
      "Specificity for each classifier: [1.0, 1.0, 1.0, 1.0]\n"
     ]
    }
   ],
   "source": [
    "# evaluation metrics\n",
    "\n",
    "cms = [confusion_matrix(y_test, y_pred_dt_clf),\n",
    "       confusion_matrix(y_test, y_pred_knn),\n",
    "       confusion_matrix(y_test, y_pred_NB),\n",
    "       confusion_matrix(y_test, y_pred_perceptron)]\n",
    "\n",
    "sensitivity = []\n",
    "specificity = []\n",
    "\n",
    "for cm in cms:\n",
    "    TP = cm[1, 1] if len(cm) > 1 else 0\n",
    "    TN = cm[0, 0] if len(cm) > 1 else 0\n",
    "    FP = cm[0, 1] if len(cm) > 1 else 0\n",
    "    FN = cm[1, 0] if len(cm) > 1 else 0\n",
    "\n",
    "    sensitivity.append(TP / (TP + FN))\n",
    "    specificity.append(TN / (TN + FP))\n",
    "    print(TP, TN, FP, FN)\n",
    "\n",
    "print(\"Sensitivity for each classifier:\", sensitivity)\n",
    "print(\"Specificity for each classifier:\", specificity)\n"
   ]
  },
  {
   "cell_type": "code",
   "execution_count": 8,
   "id": "be1038de",
   "metadata": {},
   "outputs": [],
   "source": [
    "classifiers = {\n",
    "    \"Decision Tree\": DecisionTreeClassifier(),\n",
    "    \"Naive Bayes\": GaussianNB(),\n",
    "    \"KNN\": KNeighborsClassifier(),\n",
    "    \"Perceptron\": Perceptron()\n",
    "}\n",
    "\n",
    "evaluation_metrics = {\"Classifier\": [], \"Accuracy\": [], \"Precision\": [], \"Recall\": [], \"F1-score\": [], 'sensitivity': [], 'specificity': []}\n",
    "\n",
    "for clf_name, clf in classifiers.items():\n",
    "    clf.fit(X_train, y_train)\n",
    "    y_pred = clf.predict(X_test)\n",
    "    cm= confusion_matrix(y_test, y_pred)\n",
    "    accuracy = accuracy_score(y_test, y_pred)\n",
    "    precision = precision_score(y_test, y_pred, average='macro')\n",
    "    recall = recall_score(y_test, y_pred, average='macro')\n",
    "    f1 = f1_score(y_test, y_pred, average='macro')\n",
    "    TP = cm[1, 1] if len(cm) > 1 else 0\n",
    "    TN = cm[0, 0] if len(cm) > 1 else 0\n",
    "    FP = cm[0, 1] if len(cm) > 1 else 0\n",
    "    FN = cm[1, 0] if len(cm) > 1 else 0\n",
    "\n",
    "    evaluation_metrics[\"sensitivity\"].append(TP / (TP + FN))\n",
    "    evaluation_metrics[\"specificity\"].append(TN / (TN + FP))\n",
    "    evaluation_metrics[\"Classifier\"].append(clf_name)\n",
    "    evaluation_metrics[\"Accuracy\"].append(accuracy)\n",
    "    evaluation_metrics[\"Precision\"].append(precision)\n",
    "    evaluation_metrics[\"Recall\"].append(recall)\n",
    "    evaluation_metrics[\"F1-score\"].append(f1)\n",
    "\n",
    "df = pd.DataFrame(evaluation_metrics)\n",
    "\n",
    "df.to_csv(\"evaluation_metrics.csv\", index=False)"
   ]
  },
  {
   "cell_type": "code",
   "execution_count": 10,
   "id": "189ca8f1",
   "metadata": {},
   "outputs": [
    {
     "data": {
      "text/html": [
       "<div>\n",
       "<style scoped>\n",
       "    .dataframe tbody tr th:only-of-type {\n",
       "        vertical-align: middle;\n",
       "    }\n",
       "\n",
       "    .dataframe tbody tr th {\n",
       "        vertical-align: top;\n",
       "    }\n",
       "\n",
       "    .dataframe thead th {\n",
       "        text-align: right;\n",
       "    }\n",
       "</style>\n",
       "<table border=\"1\" class=\"dataframe\">\n",
       "  <thead>\n",
       "    <tr style=\"text-align: right;\">\n",
       "      <th></th>\n",
       "      <th>Classifier</th>\n",
       "      <th>Accuracy</th>\n",
       "      <th>Precision</th>\n",
       "      <th>Recall</th>\n",
       "      <th>F1-score</th>\n",
       "      <th>sensitivity</th>\n",
       "      <th>specificity</th>\n",
       "    </tr>\n",
       "  </thead>\n",
       "  <tbody>\n",
       "    <tr>\n",
       "      <th>0</th>\n",
       "      <td>Decision Tree</td>\n",
       "      <td>0.983333</td>\n",
       "      <td>0.983333</td>\n",
       "      <td>0.981481</td>\n",
       "      <td>0.981929</td>\n",
       "      <td>1.000000</td>\n",
       "      <td>1.0</td>\n",
       "    </tr>\n",
       "    <tr>\n",
       "      <th>1</th>\n",
       "      <td>Naive Bayes</td>\n",
       "      <td>0.966667</td>\n",
       "      <td>0.963938</td>\n",
       "      <td>0.963938</td>\n",
       "      <td>0.963938</td>\n",
       "      <td>1.000000</td>\n",
       "      <td>1.0</td>\n",
       "    </tr>\n",
       "    <tr>\n",
       "      <th>2</th>\n",
       "      <td>KNN</td>\n",
       "      <td>0.983333</td>\n",
       "      <td>0.983333</td>\n",
       "      <td>0.981481</td>\n",
       "      <td>0.981929</td>\n",
       "      <td>1.000000</td>\n",
       "      <td>1.0</td>\n",
       "    </tr>\n",
       "    <tr>\n",
       "      <th>3</th>\n",
       "      <td>Perceptron</td>\n",
       "      <td>0.916667</td>\n",
       "      <td>0.917412</td>\n",
       "      <td>0.911306</td>\n",
       "      <td>0.911465</td>\n",
       "      <td>0.882353</td>\n",
       "      <td>1.0</td>\n",
       "    </tr>\n",
       "  </tbody>\n",
       "</table>\n",
       "</div>"
      ],
      "text/plain": [
       "      Classifier  Accuracy  Precision    Recall  F1-score  sensitivity  \\\n",
       "0  Decision Tree  0.983333   0.983333  0.981481  0.981929     1.000000   \n",
       "1    Naive Bayes  0.966667   0.963938  0.963938  0.963938     1.000000   \n",
       "2            KNN  0.983333   0.983333  0.981481  0.981929     1.000000   \n",
       "3     Perceptron  0.916667   0.917412  0.911306  0.911465     0.882353   \n",
       "\n",
       "   specificity  \n",
       "0          1.0  \n",
       "1          1.0  \n",
       "2          1.0  \n",
       "3          1.0  "
      ]
     },
     "execution_count": 10,
     "metadata": {},
     "output_type": "execute_result"
    }
   ],
   "source": [
    "DF= pd.read_csv(\"C:\\\\Users\\\\Lab\\\\22118\\\\evaluation_metrics.csv\")\n",
    "DF.head()"
   ]
  },
  {
   "cell_type": "code",
   "execution_count": null,
   "id": "e7ecf389",
   "metadata": {},
   "outputs": [],
   "source": []
  }
 ],
 "metadata": {
  "kernelspec": {
   "display_name": "Python 3 (ipykernel)",
   "language": "python",
   "name": "python3"
  },
  "language_info": {
   "codemirror_mode": {
    "name": "ipython",
    "version": 3
   },
   "file_extension": ".py",
   "mimetype": "text/x-python",
   "name": "python",
   "nbconvert_exporter": "python",
   "pygments_lexer": "ipython3",
   "version": "3.11.5"
  }
 },
 "nbformat": 4,
 "nbformat_minor": 5
}
